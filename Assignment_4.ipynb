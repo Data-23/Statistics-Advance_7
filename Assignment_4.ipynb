{
 "cells": [
  {
   "cell_type": "code",
   "execution_count": 2,
   "id": "f4855671",
   "metadata": {},
   "outputs": [
    {
     "name": "stdout",
     "output_type": "stream",
     "text": [
      "F-value: 0.3\n",
      "p-value: 0.6036450565101364\n"
     ]
    }
   ],
   "source": [
    "import numpy as np\n",
    "from scipy.stats import f_oneway\n",
    "\n",
    "def variance_ratio_test(data1, data2):\n",
    "  \"\"\"\n",
    "  Calculates the F-value and p-value for a variance ratio test (one-tailed).\n",
    "\n",
    "  Args:\n",
    "      data1: A NumPy array containing the first data set.\n",
    "      data2: A NumPy array containing the second data set.\n",
    "\n",
    "  Returns:\n",
    "      A tuple containing:\n",
    "          F-value: The calculated F-statistic.\n",
    "          p-value: The p-value associated with the F-statistic.\n",
    "  \"\"\"\n",
    "\n",
    "  # Check if data arrays have the same length\n",
    "  if len(data1) != len(data2):\n",
    "    raise ValueError(\"Data arrays must have the same length.\")\n",
    "\n",
    "  # Calculate F-statistic and p-value using f_oneway test\n",
    "  F, p = f_oneway(data1, data2)\n",
    "\n",
    "  return F, p\n",
    "\n",
    "# Example usage\n",
    "data1 = np.array([10, 8, 12, 14])\n",
    "data2 = np.array([9, 11, 13, 15])\n",
    "\n",
    "F, p = variance_ratio_test(data1, data2)\n",
    "\n",
    "print(\"F-value:\", F)\n",
    "print(\"p-value:\", p)\n"
   ]
  },
  {
   "cell_type": "code",
   "execution_count": null,
   "id": "91e749a4",
   "metadata": {},
   "outputs": [],
   "source": [
    "#Q2"
   ]
  },
  {
   "cell_type": "code",
   "execution_count": 3,
   "id": "fce712b7",
   "metadata": {},
   "outputs": [
    {
     "name": "stdout",
     "output_type": "stream",
     "text": [
      "Critical F-value (two-tailed): 4.825621493405406\n"
     ]
    }
   ],
   "source": [
    "from scipy.stats import f\n",
    "\n",
    "def critical_f_value(alpha, df_numerator, df_denominator):\n",
    "  \"\"\"\n",
    "  Calculates the critical F-value for a two-tailed F-test.\n",
    "\n",
    "  Args:\n",
    "      alpha: Significance level (probability of a Type I error).\n",
    "      df_numerator: Degrees of freedom for the numerator.\n",
    "      df_denominator: Degrees of freedom for the denominator.\n",
    "\n",
    "  Returns:\n",
    "      The critical F-value for a two-tailed test with the given parameters.\n",
    "  \"\"\"\n",
    "\n",
    "  # Calculate the critical value for a two-tailed test\n",
    "  critical_f = f.ppf(1 - alpha / 2, df_numerator, df_denominator)\n",
    "\n",
    "  return critical_f\n",
    "\n",
    "# Example usage (replace with your specific values)\n",
    "alpha = 0.05\n",
    "df_numerator = 3\n",
    "df_denominator = 10\n",
    "\n",
    "critical_f = critical_f_value(alpha, df_numerator, df_denominator)\n",
    "\n",
    "print(\"Critical F-value (two-tailed):\", critical_f)\n"
   ]
  },
  {
   "cell_type": "code",
   "execution_count": null,
   "id": "259d4b02",
   "metadata": {},
   "outputs": [],
   "source": [
    "#Q3"
   ]
  },
  {
   "cell_type": "code",
   "execution_count": 4,
   "id": "0ba7ad92",
   "metadata": {},
   "outputs": [
    {
     "name": "stdout",
     "output_type": "stream",
     "text": [
      "F-value: 1.2821883898895425\n",
      "Degrees of freedom (numerator, denominator): 19 14\n",
      "p-value: 0.265653442683113\n",
      "Fail to reject null hypothesis: Variances might be equal.\n"
     ]
    }
   ],
   "source": [
    "from scipy.stats import f, norm\n",
    "\n",
    "def f_test_variances(sample_size1, sample_size2, mu1, mu2, sigma1_sq, sigma2_sq, alpha=0.05):\n",
    "  \"\"\"\n",
    "  Generates random samples, performs F-test to compare variances.\n",
    "\n",
    "  Args:\n",
    "      sample_size1: Sample size for the first distribution.\n",
    "      sample_size2: Sample size for the second distribution.\n",
    "      mu1: Mean of the first normal distribution.\n",
    "      mu2: Mean of the second normal distribution.\n",
    "      sigma1_sq: Variance of the first normal distribution.\n",
    "      sigma2_sq: Variance of the second normal distribution.\n",
    "      alpha: Significance level (default 0.05).\n",
    "\n",
    "  Returns:\n",
    "      F-value, degrees of freedom for numerator and denominator, and p-value.\n",
    "  \"\"\"\n",
    "\n",
    "  # Generate random samples from normal distributions\n",
    "  data1 = norm.rvs(loc=mu1, scale=np.sqrt(sigma1_sq), size=sample_size1)\n",
    "  data2 = norm.rvs(loc=mu2, scale=np.sqrt(sigma2_sq), size=sample_size2)\n",
    "\n",
    "  # Calculate F-statistic and p-value\n",
    "  F, p = f_oneway(data1, data2)\n",
    "\n",
    "  # Calculate degrees of freedom\n",
    "  df_numerator = sample_size1 - 1\n",
    "  df_denominator = sample_size2 - 1\n",
    "\n",
    "  return F, df_numerator, df_denominator, p\n",
    "\n",
    "# Example usage\n",
    "sample_size1 = 20\n",
    "sample_size2 = 15\n",
    "mu1 = 5\n",
    "mu2 = 7\n",
    "sigma1_sq = 4\n",
    "sigma2_sq = 9\n",
    "\n",
    "F, df_numerator, df_denominator, p = f_test_variances(sample_size1, sample_size2, mu1, mu2, sigma1_sq, sigma2_sq)\n",
    "\n",
    "print(\"F-value:\", F)\n",
    "print(\"Degrees of freedom (numerator, denominator):\", df_numerator, df_denominator)\n",
    "print(\"p-value:\", p)\n",
    "\n",
    "# Interpretation (replace based on your alpha level and p-value)\n",
    "if p < alpha:\n",
    "  print(\"Reject null hypothesis: Variances are significantly different.\")\n",
    "else:\n",
    "  print(\"Fail to reject null hypothesis: Variances might be equal.\")\n"
   ]
  },
  {
   "cell_type": "code",
   "execution_count": null,
   "id": "287807fb",
   "metadata": {},
   "outputs": [],
   "source": [
    "#Q4"
   ]
  },
  {
   "cell_type": "code",
   "execution_count": null,
   "id": "7cfad4f5",
   "metadata": {},
   "outputs": [],
   "source": []
  }
 ],
 "metadata": {
  "kernelspec": {
   "display_name": "Python 3",
   "language": "python",
   "name": "python3"
  },
  "language_info": {
   "codemirror_mode": {
    "name": "ipython",
    "version": 3
   },
   "file_extension": ".py",
   "mimetype": "text/x-python",
   "name": "python",
   "nbconvert_exporter": "python",
   "pygments_lexer": "ipython3",
   "version": "3.11.3"
  }
 },
 "nbformat": 4,
 "nbformat_minor": 5
}
